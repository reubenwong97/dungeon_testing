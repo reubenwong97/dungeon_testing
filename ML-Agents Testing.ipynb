{
 "cells": [
  {
   "cell_type": "markdown",
   "id": "5999f628",
   "metadata": {},
   "source": [
    "# Setup ML Agents Environment"
   ]
  },
  {
   "cell_type": "code",
   "execution_count": null,
   "id": "a9033bc9",
   "metadata": {
    "ExecuteTime": {
     "start_time": "2021-10-23T10:28:47.002Z"
    },
    "scrolled": false
   },
   "outputs": [],
   "source": [
    "env.close()"
   ]
  },
  {
   "cell_type": "code",
   "execution_count": 1,
   "id": "0ccedc65",
   "metadata": {
    "ExecuteTime": {
     "end_time": "2021-10-23T10:29:43.968729Z",
     "start_time": "2021-10-23T10:29:43.475747Z"
    }
   },
   "outputs": [
    {
     "name": "stdout",
     "output_type": "stream",
     "text": [
      "Found path: /home/reuben/dungeon_testing/../dungeon_nodev/dungeon_escape_nondev.x86_64\n",
      "Mono path[0] = '/home/reuben/dungeon_testing/../dungeon_nodev/dungeon_escape_nondev_Data/Managed'\n",
      "Mono config path = '/home/reuben/dungeon_testing/../dungeon_nodev/dungeon_escape_nondev_Data/MonoBleedingEdge/etc'\n",
      "Preloaded 'lib_burst_generated.so'\n",
      "Preloaded 'libgrpc_csharp_ext.x64.so'\n",
      "Initialize engine version: 2020.3.16f1 (049d6eca3c44)\n",
      "[Subsystems] Discovering subsystems at path /home/reuben/dungeon_testing/../dungeon_nodev/dungeon_escape_nondev_Data/UnitySubsystems\n",
      "Forcing GfxDevice: Null\n",
      "GfxDevice: creating device client; threaded=0\n",
      "NullGfxDevice:\n",
      "    Version:  NULL 1.0 [1.0]\n",
      "    Renderer: Null Device\n",
      "    Vendor:   Unity Technologies\n",
      "Begin MonoManager ReloadAssembly\n",
      "- Completed reload, in  0.054 seconds\n",
      "ERROR: Shader Sprites/Default shader is not supported on this GPU (none of subshaders/fallbacks are suitable)\n",
      "ERROR: Shader Sprites/Mask shader is not supported on this GPU (none of subshaders/fallbacks are suitable)\n",
      "ERROR: Shader Legacy Shaders/VertexLit shader is not supported on this GPU (none of subshaders/fallbacks are suitable)\n",
      "WARNING: Shader Unsupported: 'Standard' - All subshaders removed\n",
      "WARNING: Shader Did you use #pragma only_renderers and omit this platform?\n",
      "WARNING: Shader If subshaders removal was intentional, you may have forgotten turning Fallback off?\n",
      "ERROR: Shader Standard shader is not supported on this GPU (none of subshaders/fallbacks are suitable)\n",
      "WARNING: Shader Unsupported: 'Standard' - All subshaders removed\n",
      "WARNING: Shader Did you use #pragma only_renderers and omit this platform?\n",
      "WARNING: Shader If subshaders removal was intentional, you may have forgotten turning Fallback off?\n",
      "WARNING: Shader Unsupported: 'Autodesk Interactive' - All subshaders removed\n",
      "WARNING: Shader Did you use #pragma only_renderers and omit this platform?\n",
      "WARNING: Shader If subshaders removal was intentional, you may have forgotten turning Fallback off?\n",
      "ERROR: Shader Autodesk Interactive shader is not supported on this GPU (none of subshaders/fallbacks are suitable)\n",
      "WARNING: Shader Unsupported: 'Autodesk Interactive' - All subshaders removed\n",
      "WARNING: Shader Did you use #pragma only_renderers and omit this platform?\n",
      "WARNING: Shader If subshaders removal was intentional, you may have forgotten turning Fallback off?\n",
      "WARNING: Shader Unsupported: 'Legacy Shaders/Diffuse' - All subshaders removed\n",
      "WARNING: Shader Did you use #pragma only_renderers and omit this platform?\n",
      "WARNING: Shader If subshaders removal was intentional, you may have forgotten turning Fallback off?\n",
      "ERROR: Shader Legacy Shaders/Diffuse shader is not supported on this GPU (none of subshaders/fallbacks are suitable)\n",
      "WARNING: Shader Unsupported: 'Legacy Shaders/Diffuse' - All subshaders removed\n",
      "WARNING: Shader Did you use #pragma only_renderers and omit this platform?\n",
      "WARNING: Shader If subshaders removal was intentional, you may have forgotten turning Fallback off?\n",
      "WARNING: Shader Unsupported: 'ML-Agents/GridPattern' - All subshaders removed\n",
      "WARNING: Shader Did you use #pragma only_renderers and omit this platform?\n",
      "WARNING: Shader If subshaders removal was intentional, you may have forgotten turning Fallback off?\n",
      "ERROR: Shader ML-Agents/GridPattern shader is not supported on this GPU (none of subshaders/fallbacks are suitable)\n",
      "WARNING: Shader Unsupported: 'ML-Agents/GridPattern' - All subshaders removed\n",
      "WARNING: Shader Did you use #pragma only_renderers and omit this platform?\n",
      "WARNING: Shader If subshaders removal was intentional, you may have forgotten turning Fallback off?\n",
      "ERROR: Shader GUI/Text Shader shader is not supported on this GPU (none of subshaders/fallbacks are suitable)\n",
      "UnloadTime: 1.007923 ms\n",
      "Fallback handler could not load library /home/reuben/dungeon_testing/../dungeon_nodev/dungeon_escape_nondev_Data/Mono/libcoreclr.so\n",
      "Fallback handler could not load library /home/reuben/dungeon_testing/../dungeon_nodev/dungeon_escape_nondev_Data/Mono/libcoreclr.so\n",
      "Fallback handler could not load library /home/reuben/dungeon_testing/../dungeon_nodev/dungeon_escape_nondev_Data/Mono/libcoreclr.so\n",
      "Fallback handler could not load library /home/reuben/dungeon_testing/../dungeon_nodev/dungeon_escape_nondev_Data/Mono/libSystem.dylib\n",
      "Fallback handler could not load library /home/reuben/dungeon_testing/../dungeon_nodev/dungeon_escape_nondev_Data/Mono/libSystem.dylib.so\n",
      "Fallback handler could not load library /home/reuben/dungeon_testing/../dungeon_nodev/dungeon_escape_nondev_Data/Mono/libSystem.dylib\n",
      "Fallback handler could not load library /home/reuben/dungeon_testing/../dungeon_nodev/dungeon_escape_nondev_Data/Mono/libcoreclr.so\n",
      "Fallback handler could not load library /home/reuben/dungeon_testing/../dungeon_nodev/dungeon_escape_nondev_Data/Mono/libcoreclr.so\n",
      "Fallback handler could not load library /home/reuben/dungeon_testing/../dungeon_nodev/dungeon_escape_nondev_Data/Mono/libcoreclr.so\n",
      "Fallback handler could not load library /home/reuben/dungeon_testing/../dungeon_nodev/dungeon_escape_nondev_Data/Mono/libSystem.dylib\n",
      "Fallback handler could not load library /home/reuben/dungeon_testing/../dungeon_nodev/dungeon_escape_nondev_Data/Mono/libSystem.dylib.so\n",
      "Fallback handler could not load library /home/reuben/dungeon_testing/../dungeon_nodev/dungeon_escape_nondev_Data/Mono/libSystem.dylib\n"
     ]
    }
   ],
   "source": [
    "from mlagents_envs.environment import UnityEnvironment\n",
    "try:\n",
    "    env.close()\n",
    "except:\n",
    "    pass\n",
    "# -----------------\n",
    "\n",
    "env = UnityEnvironment(file_name=\"../dungeon_nodev/dungeon_escape_nondev\")"
   ]
  },
  {
   "cell_type": "code",
   "execution_count": 61,
   "id": "a894eef9",
   "metadata": {
    "ExecuteTime": {
     "end_time": "2021-10-22T15:20:37.713872Z",
     "start_time": "2021-10-22T15:20:37.630214Z"
    }
   },
   "outputs": [],
   "source": [
    "env.reset()"
   ]
  },
  {
   "cell_type": "markdown",
   "id": "2891315c",
   "metadata": {},
   "source": [
    "# Behavior Specs"
   ]
  },
  {
   "cell_type": "markdown",
   "id": "3b50911b",
   "metadata": {},
   "source": [
    "## Get Behavior Specs from Environment"
   ]
  },
  {
   "cell_type": "code",
   "execution_count": 62,
   "id": "b9006cae",
   "metadata": {
    "ExecuteTime": {
     "end_time": "2021-10-22T15:20:37.722848Z",
     "start_time": "2021-10-22T15:20:37.716504Z"
    },
    "scrolled": false
   },
   "outputs": [
    {
     "data": {
      "text/plain": [
       "BehaviorSpec(observation_specs=[ObservationSpec(shape=(10,), dimension_property=(<DimensionProperty.NONE: 1>,), observation_type=<ObservationType.DEFAULT: 0>, name='RBSensor'), ObservationSpec(shape=(360,), dimension_property=(<DimensionProperty.NONE: 1>,), observation_type=<ObservationType.DEFAULT: 0>, name='StackingSensor_size3_RayPerceptionSensor'), ObservationSpec(shape=(1,), dimension_property=(<DimensionProperty.NONE: 1>,), observation_type=<ObservationType.DEFAULT: 0>, name='VectorSensor_size1')], action_spec=ActionSpec(continuous_size=0, discrete_branches=(7,)))"
      ]
     },
     "execution_count": 62,
     "metadata": {},
     "output_type": "execute_result"
    }
   ],
   "source": [
    "behavior_name = list(env.behavior_specs.keys())[0]\n",
    "spec = env.behavior_specs[behavior_name]\n",
    "spec"
   ]
  },
  {
   "cell_type": "markdown",
   "id": "25728994",
   "metadata": {},
   "source": [
    "## Get Observation Space from Behavior Specs"
   ]
  },
  {
   "cell_type": "code",
   "execution_count": 63,
   "id": "63458bcb",
   "metadata": {
    "ExecuteTime": {
     "end_time": "2021-10-22T15:20:38.344585Z",
     "start_time": "2021-10-22T15:20:38.338593Z"
    }
   },
   "outputs": [
    {
     "name": "stdout",
     "output_type": "stream",
     "text": [
      "Number of observations :  3\n",
      "Is there a visual observation ? False\n"
     ]
    }
   ],
   "source": [
    "# Examine the number of observations per Agent\n",
    "print(\"Number of observations : \", len(spec.observation_specs))\n",
    "\n",
    "# Is there a visual observation ?\n",
    "# Visual observation have 3 dimensions: Height, Width and number of channels\n",
    "vis_obs = any(len(spec.shape) == 3 for spec in spec.observation_specs)\n",
    "print(\"Is there a visual observation ?\", vis_obs)"
   ]
  },
  {
   "cell_type": "markdown",
   "id": "94dd9dbe",
   "metadata": {},
   "source": [
    "## Get Action Space from Behavior Specs"
   ]
  },
  {
   "cell_type": "code",
   "execution_count": 64,
   "id": "807f0a8d",
   "metadata": {
    "ExecuteTime": {
     "end_time": "2021-10-22T15:20:38.508005Z",
     "start_time": "2021-10-22T15:20:38.501242Z"
    },
    "scrolled": true
   },
   "outputs": [
    {
     "name": "stdout",
     "output_type": "stream",
     "text": [
      "There are 1 discrete actions\n",
      "Action number 0 has 7 different options\n"
     ]
    }
   ],
   "source": [
    "# Is the Action continuous or multi-discrete ?\n",
    "if spec.action_spec.continuous_size > 0:\n",
    "    print(f\"There are {spec.action_spec.continuous_size} continuous actions\")\n",
    "if spec.action_spec.is_discrete():\n",
    "    print(f\"There are {spec.action_spec.discrete_size} discrete actions\")\n",
    "\n",
    "\n",
    "# How many actions are possible ?\n",
    "#print(f\"There are {spec.action_size} action(s)\")\n",
    "\n",
    "# For discrete actions only : How many different options does each action has ?\n",
    "if spec.action_spec.discrete_size > 0:\n",
    "    for action, branch_size in enumerate(spec.action_spec.discrete_branches):\n",
    "        print(f\"Action number {action} has {branch_size} different options\")"
   ]
  },
  {
   "cell_type": "code",
   "execution_count": 65,
   "id": "21604c35",
   "metadata": {
    "ExecuteTime": {
     "end_time": "2021-10-22T15:20:38.582340Z",
     "start_time": "2021-10-22T15:20:38.578460Z"
    }
   },
   "outputs": [
    {
     "data": {
      "text/plain": [
       "7"
      ]
     },
     "execution_count": 65,
     "metadata": {},
     "output_type": "execute_result"
    }
   ],
   "source": [
    "spec.action_spec.discrete_branches[0]"
   ]
  },
  {
   "cell_type": "markdown",
   "id": "df331765",
   "metadata": {},
   "source": [
    "## Learning About the Observations for Agents\n",
    "---\n",
    "As seen from the cell below, there are 3 sources of observations coming from the `RBSensor`, `RayPerceptionSensor` and `VectorSensor`. The observations have a `batch_size` of 36, stemming from the 3 agents, replicated over 12 learning environments.\n",
    "\n",
    "* `RBSensor` refers to `RigidBodySensor`, which within the Unity editor tells me this is not useful because this model lacks joints and will always be identity values, can actually be removed.\n",
    "* The other 2 are useful, but need to think of how to represent them, do I just concatenate them?"
   ]
  },
  {
   "cell_type": "code",
   "execution_count": 66,
   "id": "d2ea588b",
   "metadata": {
    "ExecuteTime": {
     "end_time": "2021-10-22T15:20:38.754589Z",
     "start_time": "2021-10-22T15:20:38.747829Z"
    }
   },
   "outputs": [
    {
     "name": "stdout",
     "output_type": "stream",
     "text": [
      "(36, 10)\n",
      "(36, 360)\n",
      "(36, 1)\n",
      "torch.Size([36, 361])\n"
     ]
    }
   ],
   "source": [
    "import torch as th\n",
    "decision_steps, terminal_steps = env.get_steps(\"DungeonEscape?team=0\")\n",
    "\n",
    "# observations coming from 3 sources, in batches of 3 * 12 (replicated envs) = 36\n",
    "print(decision_steps.obs[0].shape)  # rb_sensor, DO NOT USE\n",
    "print(decision_steps.obs[1].shape)  # ray perception sensor\n",
    "print(decision_steps.obs[2].shape)  # vector sensor\n",
    "print(th.cat((th.tensor(decision_steps.obs[1]), th.tensor(\n",
    "    decision_steps.obs[2])), 1).shape)"
   ]
  },
  {
   "cell_type": "markdown",
   "id": "cd0e4979",
   "metadata": {},
   "source": [
    "# Learning"
   ]
  },
  {
   "cell_type": "markdown",
   "id": "396be0fb",
   "metadata": {},
   "source": [
    "## Memory\n",
    "Using NamedTuples could be a neater method of doing things. Probably can use it for the single agent training."
   ]
  },
  {
   "cell_type": "code",
   "execution_count": 67,
   "id": "c3b4fd7b",
   "metadata": {
    "ExecuteTime": {
     "end_time": "2021-10-22T15:20:39.000287Z",
     "start_time": "2021-10-22T15:20:38.993737Z"
    }
   },
   "outputs": [],
   "source": [
    "import numpy as np\n",
    "from typing import NamedTuple, List, Deque, Dict\n",
    "from types import SimpleNamespace\n",
    "\n",
    "class Experience(NamedTuple):\n",
    "    \"\"\"\n",
    "    An experience contains the data of one Agent transition.\n",
    "    - Observation\n",
    "    - Action\n",
    "    - Reward\n",
    "    - Done flag\n",
    "    - Next Observation\n",
    "    \"\"\"\n",
    "\n",
    "    obs: np.ndarray\n",
    "    action: np.ndarray # Check on the actual actions required by Unity\n",
    "    reward: float\n",
    "    done: bool\n",
    "    next_obs: np.ndarray\n",
    "\n",
    "# Pretty cool, these aren't instantiations but like composite typing\n",
    "# A Trajectory is an ordered sequence of Experiences\n",
    "Trajectory = List[Experience] # small enough so I am not afraid of exceeding\n",
    "\n",
    "# A Buffer is an unordered list of Experiences from multiple Trajectories\n",
    "Buffer = Deque[Experience]"
   ]
  },
  {
   "cell_type": "code",
   "execution_count": 68,
   "id": "c2917bc7",
   "metadata": {
    "ExecuteTime": {
     "end_time": "2021-10-22T15:20:39.090588Z",
     "start_time": "2021-10-22T15:20:39.078036Z"
    },
    "code_folding": [
     0
    ]
   },
   "outputs": [],
   "source": [
    "class ReplayBuffer(object):\n",
    "    def __init__(self, max_size, input_shape, n_actions):\n",
    "        \"\"\"\n",
    "        To deal with the potential changing number of agents, each with valid\n",
    "        observations -> just store the [36, 361] observations as 36 seperate\n",
    "        entries, and the 36 actions also as seperate entries... I think...\n",
    "        \"\"\"\n",
    "        self.mem_size = max_size\n",
    "        self.mem_cntr = 0\n",
    "#         self.state_memory = np.zeros((self.mem_size, *input_shape),\n",
    "#                                      dtype=np.float32)\n",
    "#         self.new_state_memory = np.zeros((self.mem_size, *input_shape),\n",
    "#                                          dtype=np.float32)\n",
    "        self.state_memory = np.zeros((self.mem_size, input_shape),\n",
    "                                     dtype=np.float32)\n",
    "        self.new_state_memory = np.zeros((self.mem_size, input_shape),\n",
    "                                         dtype=np.float32)\n",
    "\n",
    "        self.action_memory = np.zeros(self.mem_size, dtype=np.int64)\n",
    "        self.reward_memory = np.zeros(self.mem_size, dtype=np.float32)\n",
    "        self.terminal_memory = np.zeros(self.mem_size, dtype=bool)\n",
    "\n",
    "    def store_transition(self, state, action, reward, state_, done):\n",
    "        index = self.mem_cntr % self.mem_size\n",
    "        self.state_memory[index] = state\n",
    "        self.new_state_memory[index] = state_\n",
    "        self.action_memory[index] = action\n",
    "        self.reward_memory[index] = reward\n",
    "        self.terminal_memory[index] = done\n",
    "        self.mem_cntr += 1\n",
    "\n",
    "    def sample_buffer(self, batch_size):\n",
    "        max_mem = min(self.mem_cntr, self.mem_size)\n",
    "        batch = np.random.choice(max_mem, batch_size, replace=False)\n",
    "\n",
    "        states = self.state_memory[batch]\n",
    "        actions = self.action_memory[batch]\n",
    "        rewards = self.reward_memory[batch]\n",
    "        states_ = self.new_state_memory[batch]\n",
    "        terminal = self.terminal_memory[batch]\n",
    "\n",
    "        return states, actions, rewards, states_, terminal"
   ]
  },
  {
   "cell_type": "markdown",
   "id": "3feb51a6",
   "metadata": {},
   "source": [
    "## Models"
   ]
  },
  {
   "cell_type": "code",
   "execution_count": 69,
   "id": "431d5511",
   "metadata": {
    "ExecuteTime": {
     "end_time": "2021-10-22T15:20:39.249577Z",
     "start_time": "2021-10-22T15:20:39.245642Z"
    }
   },
   "outputs": [],
   "source": [
    "import torch as th\n",
    "import torch.nn as nn\n",
    "import torch.nn.functional as F\n",
    "import os\n",
    "import numpy as np"
   ]
  },
  {
   "cell_type": "markdown",
   "id": "c9a37aab",
   "metadata": {},
   "source": [
    "### Caveat for Linear Layer\n",
    "As per [pytorch docs](https://pytorch.org/docs/stable/generated/torch.nn.Linear.html), input is of shape \\[N, *, input_dims\\], where * means any number of additional dimensions. So it will implicitly handle our observations of \\[32, 36, 361\\] by just passing 361 as input dims."
   ]
  },
  {
   "cell_type": "code",
   "execution_count": 70,
   "id": "0457e8e2",
   "metadata": {
    "ExecuteTime": {
     "end_time": "2021-10-22T15:20:39.422278Z",
     "start_time": "2021-10-22T15:20:39.413914Z"
    }
   },
   "outputs": [],
   "source": [
    "class DQN(nn.Module):\n",
    "    \"\"\"\n",
    "    Currently just boilerplate code, to tweak architecture\n",
    "    \"\"\"\n",
    "\n",
    "    def __init__(self,\n",
    "                 input_shape: int,\n",
    "                 hidden_size1: int,\n",
    "                 hidden_size2: int,\n",
    "                 output_size: int,\n",
    "                 args: SimpleNamespace):\n",
    "        \"\"\"\n",
    "        Input to the network will be of shape [B, n_agents, obs_size]\n",
    "        \"\"\"\n",
    "        super().__init__()\n",
    "        self.args = args\n",
    "        self.fc1 = nn.Linear(input_shape, hidden_size1)\n",
    "        self.fc2 = nn.Linear(hidden_size1, hidden_size2)\n",
    "        self.fc3 = nn.Linear(hidden_size2, output_size)\n",
    "        self.device = th.device(args.device)\n",
    "        self.to(self.device)\n",
    "\n",
    "    def forward(self, state):\n",
    "        x = F.relu(self.fc1(state))\n",
    "        x = F.relu(self.fc2(x))\n",
    "        q = self.fc3(x)\n",
    "\n",
    "        # return q-values for actions\n",
    "        return q "
   ]
  },
  {
   "cell_type": "markdown",
   "id": "dfcdda12",
   "metadata": {},
   "source": [
    "## Learning Agent"
   ]
  },
  {
   "cell_type": "code",
   "execution_count": 71,
   "id": "d7816a35",
   "metadata": {
    "ExecuteTime": {
     "end_time": "2021-10-22T15:20:39.585063Z",
     "start_time": "2021-10-22T15:20:39.581774Z"
    }
   },
   "outputs": [],
   "source": [
    "from collections import deque\n",
    "import random"
   ]
  },
  {
   "cell_type": "code",
   "execution_count": 72,
   "id": "1963cb9e",
   "metadata": {
    "ExecuteTime": {
     "end_time": "2021-10-22T15:20:39.696320Z",
     "start_time": "2021-10-22T15:20:39.670577Z"
    }
   },
   "outputs": [],
   "source": [
    "class DQNAgent:\n",
    "    def __init__(self, args: SimpleNamespace, env: UnityEnvironment):\n",
    "        self.args = args\n",
    "        self.device = th.device(args.device)\n",
    "        self.epsilon = args.epsilon\n",
    "        self.eps_min = args.eps_min\n",
    "        self.eps_dec = args.eps_dec\n",
    "        self.replace_target_cnt = args.replace\n",
    "        self.batch_size = args.batch_size\n",
    "        self.gamma = args.gamma\n",
    "\n",
    "        # environment related information\n",
    "        self.env = env\n",
    "        self.behavior_name = list(env.behavior_specs.keys())[0]\n",
    "        self.spec = env.behavior_specs[self.behavior_name]\n",
    "        self.n_actions = self.spec.action_spec.discrete_branches[0]\n",
    "        self.action_space = [i for i in range(self.n_actions)]\n",
    "\n",
    "        # RL related\n",
    "        self.memory: Buffer = deque([], maxlen=args.mem_size)\n",
    "        self.q_eval = DQN(args.input_shape, args.hidden_size1,\n",
    "                          args.hidden_size2, args.output_size, args)\n",
    "        # target network, perhaps can deepcopy?\n",
    "        self.q_next = DQN(args.input_shape, args.hidden_size1,\n",
    "                          args.hidden_size2, args.output_size, args)\n",
    "\n",
    "        self.optimiser = th.optim.Adam(self.q_eval.parameters(), lr=args.lr)\n",
    "        self.loss = nn.MSELoss()\n",
    "\n",
    "        self.learn_step_counter = 0\n",
    "\n",
    "        self._setup_checkpoints_dir(args)\n",
    "\n",
    "    def _setup_checkpoints_dir(self, args):\n",
    "        model_name = args.save_name\n",
    "        save_dir = \"./checkpoints/\"\n",
    "        self.chkpts_path = os.path.join(save_dir, model_name)\n",
    "        if not os.path.isdir(self.chkpts_path):\n",
    "            os.makedirs(self.chkpts_path)\n",
    "\n",
    "    def choose_action(self, observation):\n",
    "        if np.random.random() > self.epsilon:\n",
    "            # no need to accumulate gradients on inference, and memory stored\n",
    "            # as numpy ndarrays anyway\n",
    "            q_vals = self.q_eval.forward(observation).detach().cpu().numpy()\n",
    "            actions = np.argmax(q_vals, axis=1)\n",
    "        else:\n",
    "            actions = np.random.choice(\n",
    "                self.action_space, size=observation.shape[0])\n",
    "\n",
    "        return actions\n",
    "\n",
    "#     def store_transition(self, state, action, reward, state_, done):\n",
    "#         self.memory.store_transition(state, action, reward, state_, done)\n",
    "    # NOTE: too cumbersome to handle here now, may come back later\n",
    "\n",
    "#     def sample_memory(self):\n",
    "#         state, action, reward, new_state, done = \\\n",
    "#             self.memory.sample_buffer(self.batch_size)\n",
    "\n",
    "#         states = th.tensor(state).to(self.q_eval.device)\n",
    "#         rewards = th.tensor(reward).to(self.q_eval.device)\n",
    "#         dones = th.tensor(done).to(self.q_eval.device)\n",
    "#         actions = th.tensor(action).to(self.q_eval.device)\n",
    "#         states_ = th.tensor(new_state).to(self.q_eval.device)\n",
    "\n",
    "#         return states, actions, rewards, states_, dones\n",
    "\n",
    "    def sample_memory(self):\n",
    "#         indices = np.random.choice(len(self.memory), self.args.batch_size)\n",
    "        batch = random.choices(self.memory, k=self.args.batch_size)\n",
    "        # Essentially just unpacking the experience\n",
    "        obs = th.from_numpy(\n",
    "            np.stack([ex.obs for ex in batch])).to(self.device)\n",
    "        rewards = th.from_numpy(\n",
    "            np.array([ex.reward for ex in batch],\n",
    "                     dtype=np.float32).reshape(-1, 1)\n",
    "        ).to(self.device)\n",
    "        dones = th.from_numpy(\n",
    "            np.array([ex.done for ex in batch],\n",
    "                     dtype=np.float32).reshape(-1, 1)\n",
    "        ).to(self.device)\n",
    "        dones = th.gt(dones, 0) # cast to bool tensor\n",
    "        actions = th.from_numpy(\n",
    "            np.stack([ex.action for ex in batch])).to(self.device)\n",
    "        next_obs = th.from_numpy(\n",
    "            np.stack([ex.next_obs for ex in batch])).to(self.device)\n",
    "\n",
    "        return obs, actions, rewards, next_obs, dones\n",
    "\n",
    "    def replace_target_network(self):\n",
    "        if self.learn_step_counter % self.replace_target_cnt == 0:\n",
    "            self.q_next.load_state_dict(self.q_eval.state_dict())\n",
    "\n",
    "    def decrement_epsilon(self):\n",
    "        self.epsilon = self.epsilon - self.eps_dec \\\n",
    "            if self.epsilon > self.eps_min else self.eps_min\n",
    "\n",
    "    def save_checkpoints(self, num):\n",
    "        th.save(self.q_next.state_dict(),\n",
    "                os.path.join(self.chkpts_path, f\"qnext_{num}.pt\"))\n",
    "        th.save(self.q_eval.state_dict(),\n",
    "                os.path.join(self.chkpts_path, f\"qeval_{num}.pt\"))\n",
    "\n",
    "    def load_checkpoints(self, num):\n",
    "        self.q_next.load_state_dict(\n",
    "            th.load(os.path.join(self.chkpts_path, f\"qnext_{num}.pt\")))\n",
    "        self.q_eval.load_state_dict(\n",
    "            th.load(os.path.join(self.chkpts_path, f\"qnext_{num}.pt\")))\n",
    "\n",
    "    def learn(self):\n",
    "        if len(self.memory) < self.batch_size:\n",
    "            return\n",
    "\n",
    "        self.optimiser.zero_grad()\n",
    "\n",
    "        self.replace_target_network()\n",
    "\n",
    "        states, actions, rewards, states_, dones = self.sample_memory()\n",
    "        indices = np.arange(self.batch_size)\n",
    "\n",
    "        q_pred = self.q_eval.forward(states)[indices, actions]\n",
    "        q_next = self.q_next.forward(states_).max(dim=1)[0]\n",
    "\n",
    "        dones = th.squeeze(dones, 1)\n",
    "#         print(q_next.shape)\n",
    "#         print(dones.shape)\n",
    "#         print(dones)\n",
    "        q_next[dones] = 0.0\n",
    "#         print(q_next)\n",
    "        q_target = rewards + self.gamma * q_next\n",
    "\n",
    "        loss = self.loss(q_target, q_pred).to(self.device)\n",
    "        loss.backward()\n",
    "        self.optimiser.step()\n",
    "        self.learn_step_counter += 1\n",
    "\n",
    "        self.decrement_epsilon()"
   ]
  },
  {
   "cell_type": "markdown",
   "id": "afc9e25b",
   "metadata": {},
   "source": [
    "## Arguments"
   ]
  },
  {
   "cell_type": "code",
   "execution_count": 73,
   "id": "531fd5bf",
   "metadata": {
    "ExecuteTime": {
     "end_time": "2021-10-22T15:20:39.843407Z",
     "start_time": "2021-10-22T15:20:39.833204Z"
    }
   },
   "outputs": [
    {
     "data": {
      "text/plain": [
       "namespace(batch_size=32,\n",
       "          device='cuda:2',\n",
       "          epsilon=1.0,\n",
       "          gamma=0.99,\n",
       "          save_name='dqn',\n",
       "          lr=0.0001,\n",
       "          mem_size=50000,\n",
       "          eps_min=0.1,\n",
       "          eps_dec=0.0001,\n",
       "          replace=1000,\n",
       "          input_shape=361,\n",
       "          hidden_size1=256,\n",
       "          hidden_size2=128,\n",
       "          output_size=7)"
      ]
     },
     "execution_count": 73,
     "metadata": {},
     "output_type": "execute_result"
    }
   ],
   "source": [
    "args = SimpleNamespace()\n",
    "\n",
    "args.batch_size = 32\n",
    "args.device = 'cuda:2'\n",
    "args.epsilon = 1.0\n",
    "args.gamma = 0.99\n",
    "args.save_name = 'dqn'\n",
    "args.lr = 0.0001\n",
    "args.mem_size = 50000\n",
    "args.eps_min = 0.1\n",
    "args.eps_dec = 1e-4\n",
    "args.replace = 1000\n",
    "# args.input_shape = (decision_steps.obs[1].shape[0],\n",
    "#                     decision_steps.obs[1].shape[1] + decision_steps.obs[2].shape[1])\n",
    "args.input_shape = decision_steps.obs[1].shape[1] + decision_steps.obs[2].shape[1]\n",
    "args.hidden_size1 = 256\n",
    "args.hidden_size2 = 128\n",
    "args.output_size = spec.action_spec.discrete_branches[0]\n",
    "\n",
    "args"
   ]
  },
  {
   "cell_type": "markdown",
   "id": "8c13b886",
   "metadata": {},
   "source": [
    "# Playing in the Environment"
   ]
  },
  {
   "cell_type": "code",
   "execution_count": 74,
   "id": "22cfcc62",
   "metadata": {
    "ExecuteTime": {
     "end_time": "2021-10-22T15:20:40.612688Z",
     "start_time": "2021-10-22T15:20:40.609028Z"
    }
   },
   "outputs": [],
   "source": [
    "from mlagents_envs.environment import ActionTuple"
   ]
  },
  {
   "cell_type": "markdown",
   "id": "2a33cb95",
   "metadata": {},
   "source": [
    "Need to find some way to handle cummulative rewards."
   ]
  },
  {
   "cell_type": "code",
   "execution_count": 75,
   "id": "b07e350f",
   "metadata": {
    "ExecuteTime": {
     "end_time": "2021-10-22T15:20:40.891926Z",
     "start_time": "2021-10-22T15:20:40.888047Z"
    }
   },
   "outputs": [],
   "source": [
    "from tqdm.notebook import tqdm, trange"
   ]
  },
  {
   "cell_type": "code",
   "execution_count": null,
   "id": "40bf94cd",
   "metadata": {
    "ExecuteTime": {
     "start_time": "2021-10-22T15:20:41.348Z"
    },
    "scrolled": true
   },
   "outputs": [
    {
     "data": {
      "application/vnd.jupyter.widget-view+json": {
       "model_id": "cada0d67225242dc83d064228a30c138",
       "version_major": 2,
       "version_minor": 0
      },
      "text/plain": [
       "  0%|          | 0/750 [00:00<?, ?it/s]"
      ]
     },
     "metadata": {},
     "output_type": "display_data"
    },
    {
     "name": "stdout",
     "output_type": "stream",
     "text": [
      "ERROR: Shader UI/Default shader is not supported on this GPU (none of subshaders/fallbacks are suitable)\n",
      "Dragon ate DungeonEscapeAgent (2)\n",
      "\n",
      "At game 0, epsilon=1.0\n",
      "Dragon ate DungeonEscapeAgent (2)\n",
      "\n",
      "Dragon ate DungeonEscapeAgent\n",
      "\n",
      "Dragon ate DungeonEscapeAgent (2)\n",
      "\n",
      "Dragon ate DungeonEscapeAgent (1)\n",
      "\n",
      "Dragon ate DungeonEscapeAgent\n",
      "\n",
      "Dragon ate DungeonEscapeAgent (1)\n",
      "\n",
      "Picked up key\n",
      "\n",
      "Picked up key\n",
      "\n",
      "Picked up key\n",
      "\n",
      "Dragon ate DungeonEscapeAgent\n",
      "\n",
      "Dragon ate DungeonEscapeAgent (1)\n",
      "\n",
      "Picked up key\n",
      "\n",
      "Dragon ate DungeonEscapeAgent (1)\n",
      "\n",
      "Picked up key\n",
      "\n",
      "Picked up key\n",
      "\n",
      "Dragon ate DungeonEscapeAgent\n",
      "\n",
      "Picked up key\n",
      "\n",
      "At game 25, epsilon=0.9692000000000034\n",
      "Dragon ate DungeonEscapeAgent (1)\n",
      "\n",
      "Picked up key\n",
      "\n",
      "Picked up key\n",
      "\n",
      "Dragon ate DungeonEscapeAgent (1)\n",
      "\n",
      "Dragon ate DungeonEscapeAgent\n",
      "\n",
      "Dragon ate DungeonEscapeAgent (2)\n",
      "\n",
      "Picked up key\n",
      "\n",
      "Internal: JobTempAlloc has allocations that are more than 4 frames old - this is not allowed and likely a leak\n",
      "\n",
      "Internal: deleting an allocation that is older than its permitted lifetime of 4 frames (age = 7)\n",
      "\n",
      "Dragon ate DungeonEscapeAgent (2)\n",
      "\n",
      "Picked up key\n",
      "\n",
      "Picked up key\n",
      "\n",
      "Picked up key\n",
      "\n",
      "Dragon ate DungeonEscapeAgent (2)\n",
      "\n",
      "Dragon ate DungeonEscapeAgent\n",
      "\n",
      "Picked up key\n",
      "\n",
      "Dragon ate DungeonEscapeAgent (1)\n",
      "\n",
      "At game 50, epsilon=0.7351000000000292\n",
      "Picked up key\n",
      "\n",
      "Picked up key\n",
      "\n",
      "Dragon ate DungeonEscapeAgent (1)\n",
      "\n",
      "Picked up key\n",
      "\n",
      "Dragon ate DungeonEscapeAgent (1)\n",
      "\n",
      "Dragon ate DungeonEscapeAgent (1)\n",
      "\n",
      "Dragon ate DungeonEscapeAgent (2)\n",
      "\n",
      "Dragon ate DungeonEscapeAgent\n",
      "\n",
      "Picked up key\n",
      "\n",
      "Dragon ate DungeonEscapeAgent (1)\n",
      "\n",
      "Picked up key\n",
      "\n",
      "Dragon ate DungeonEscapeAgent (1)\n",
      "\n",
      "Picked up key\n",
      "\n",
      "Picked up key\n",
      "\n",
      "Dragon ate DungeonEscapeAgent (2)\n",
      "\n",
      "Picked up key\n",
      "\n",
      "At game 75, epsilon=0.6135000000000426\n",
      "Dragon ate DungeonEscapeAgent\n",
      "\n",
      "Picked up key\n",
      "\n",
      "Picked up key\n",
      "\n",
      "Dragon ate DungeonEscapeAgent (2)\n",
      "\n",
      "Dragon ate DungeonEscapeAgent (2)\n",
      "\n",
      "Dragon ate DungeonEscapeAgent (1)\n",
      "\n",
      "Picked up key\n",
      "\n",
      "Unlocked Door\n",
      "\n",
      "Dragon ate DungeonEscapeAgent (1)\n",
      "\n",
      "Picked up key\n",
      "\n",
      "Dragon ate DungeonEscapeAgent (2)\n",
      "\n",
      "Picked up key\n",
      "\n",
      "Dragon ate DungeonEscapeAgent (1)\n",
      "\n",
      "At game 100, epsilon=0.5118000000000538\n",
      "Dragon ate DungeonEscapeAgent (1)\n",
      "\n",
      "Picked up key\n",
      "\n",
      "Dragon ate DungeonEscapeAgent (1)\n",
      "\n",
      "Picked up key\n",
      "\n",
      "Picked up key\n",
      "\n",
      "Picked up key\n",
      "\n",
      "Dragon ate DungeonEscapeAgent\n",
      "\n",
      "Picked up key\n",
      "\n",
      "Dragon ate DungeonEscapeAgent\n",
      "\n",
      "Dragon ate DungeonEscapeAgent\n",
      "\n",
      "Picked up key\n",
      "\n",
      "Dragon ate DungeonEscapeAgent (1)\n",
      "\n",
      "Dragon ate DungeonEscapeAgent (2)\n",
      "\n",
      "Dragon ate DungeonEscapeAgent (2)\n",
      "\n",
      "At game 125, epsilon=0.3065000000000764\n",
      "Dragon ate DungeonEscapeAgent\n",
      "\n",
      "Picked up key\n",
      "\n",
      "Dragon ate DungeonEscapeAgent (1)\n",
      "\n",
      "Picked up key\n",
      "\n",
      "Dragon ate DungeonEscapeAgent (2)\n",
      "\n",
      "Picked up key\n",
      "\n",
      "Dragon ate DungeonEscapeAgent (2)\n",
      "\n",
      "Dragon ate DungeonEscapeAgent\n",
      "\n",
      "Dragon ate DungeonEscapeAgent (2)\n",
      "\n",
      "Dragon ate DungeonEscapeAgent (2)\n",
      "\n",
      "Picked up key\n",
      "\n",
      "Picked up key\n",
      "\n",
      "Dragon ate DungeonEscapeAgent (2)\n",
      "\n",
      "Picked up key\n",
      "\n"
     ]
    }
   ],
   "source": [
    "best_score = -np.inf\n",
    "load_checkpoint = False\n",
    "n_games = 750\n",
    "\n",
    "agent = DQNAgent(args, env)\n",
    "\n",
    "if load_checkpoint:\n",
    "    agent.load_checkpoints(num=0) # Placeholder\n",
    "\n",
    "dict_trajectories_from_agent: Dict[int, Trajectory] = {}\n",
    "dict_last_obs_from_agent: Dict[int, np.ndarray] = {}\n",
    "dict_last_action_from_agent: Dict[int, np.ndarray] = {}\n",
    "dict_cumulative_reward_from_agent: Dict[int, float] = {}\n",
    "cumulative_rewards: List[float] = []\n",
    "\n",
    "for i in trange(n_games):\n",
    "    done = False\n",
    "    env.reset()\n",
    "\n",
    "    score = 0\n",
    "    while not done:\n",
    "        # get observations somehow\n",
    "        decision_steps, terminal_steps = env.get_steps(agent.behavior_name)\n",
    "        # --------- Unsure about this, this does things in batch manner -----------\n",
    "#         ray_obs = th.tensor(decision_steps.obs[1]).to(agent.device)\n",
    "#         key_obs = th.tensor(decision_steps.obs[2]).to(agent.device)\n",
    "        # combine observations into 1 vector\n",
    "        obs = np.concatenate(\n",
    "            (decision_steps.obs[1], decision_steps.obs[2]), axis=1)\n",
    "        # -------------------------------------------------------------------------\n",
    "\n",
    "        # For all Agents with a Terminal Step:\n",
    "        for agent_id_terminated in terminal_steps:\n",
    "            # Create its last experience (is last because the Agent terminated)\n",
    "            last_experience = Experience(\n",
    "                obs=dict_last_obs_from_agent[agent_id_terminated].copy(),\n",
    "                reward=terminal_steps[agent_id_terminated].group_reward,\n",
    "                done=not terminal_steps[agent_id_terminated].interrupted,\n",
    "                action=dict_last_action_from_agent[agent_id_terminated].copy(),\n",
    "                next_obs=np.concatenate(\n",
    "                    (terminal_steps[agent_id_terminated].obs[1],\n",
    "                     terminal_steps[agent_id_terminated].obs[2]), axis=0)\n",
    "            )\n",
    "            # Clear its last observation and action (Since the trajectory is over)\n",
    "            dict_last_obs_from_agent.pop(agent_id_terminated)\n",
    "            dict_last_action_from_agent.pop(agent_id_terminated)\n",
    "\n",
    "            cumulative_reward = (\n",
    "                dict_cumulative_reward_from_agent.pop(agent_id_terminated)\n",
    "                + terminal_steps[agent_id_terminated].group_reward\n",
    "            )\n",
    "            cumulative_rewards.append(cumulative_reward)\n",
    "\n",
    "            agent.memory.extend(dict_trajectories_from_agent.pop(\n",
    "                agent_id_terminated))\n",
    "            agent.memory.append(last_experience)\n",
    "\n",
    "        # For all Agents with a Decision Step:\n",
    "        for agent_id_decisions in decision_steps:\n",
    "            # If the Agent does not have a Trajectory, create an empty one\n",
    "            if agent_id_decisions not in dict_trajectories_from_agent:\n",
    "                dict_trajectories_from_agent[agent_id_decisions] = []\n",
    "                dict_cumulative_reward_from_agent[agent_id_decisions] = 0\n",
    "\n",
    "            # If the Agent requesting a decision has a \"last observation\"\n",
    "            if agent_id_decisions in dict_last_obs_from_agent:\n",
    "                # Create an Experience from the last observation and the Decision Step\n",
    "                exp = Experience(\n",
    "                    obs=dict_last_obs_from_agent[agent_id_decisions].copy(),\n",
    "                    reward=decision_steps[agent_id_decisions].group_reward,\n",
    "                    done=False,\n",
    "                    action=dict_last_action_from_agent[agent_id_decisions].copy(\n",
    "                    ),\n",
    "                    next_obs=np.concatenate((decision_steps[agent_id_decisions].obs[1],\n",
    "                                            decision_steps[agent_id_decisions].obs[2]), axis=0)\n",
    "                )\n",
    "#                 print(exp.next_obs)\n",
    "                # Update the Trajectory of the Agent and its cumulative reward\n",
    "                dict_trajectories_from_agent[agent_id_decisions].append(exp)\n",
    "                dict_cumulative_reward_from_agent[agent_id_decisions] += (\n",
    "                    decision_steps[agent_id_decisions].group_reward\n",
    "                )\n",
    "#             print(decision_steps[agent_id_decisions].obs[1].shape)\n",
    "#             print(decision_steps[agent_id_decisions].obs[2].shape)\n",
    "            dict_last_obs_from_agent[agent_id_decisions] = np.concatenate((decision_steps[agent_id_decisions].obs[1],\n",
    "                                                                           decision_steps[agent_id_decisions].obs[2]), axis=0)\n",
    "\n",
    "        # when passing to agent in \"live\" env, bs is 1\n",
    "        # number of actions obtained = number of agents remaining alive\n",
    "        with th.no_grad():\n",
    "            # performing inference, don't want to accumulate gradients\n",
    "            actions = agent.choose_action(\n",
    "                th.from_numpy(obs).to(agent.device))\n",
    "        actions.resize(len(decision_steps), 1)\n",
    "        # Store the action that was picked, it will be put in the trajectory later\n",
    "        for agent_index, agent_id in enumerate(decision_steps.agent_id):\n",
    "            dict_last_action_from_agent[agent_id] = actions[agent_index]\n",
    "\n",
    "        # Set the actions in the environment\n",
    "        # Unity Environments expect ActionTuple instances.\n",
    "        action_tuple = ActionTuple()\n",
    "        action_tuple.add_discrete(actions)\n",
    "#         print(action_tuple._discrete.shape)\n",
    "        env.set_actions(agent.behavior_name, action_tuple)\n",
    "        env.step()\n",
    "        \n",
    "        agent.learn()\n",
    "        \n",
    "        if len(decision_steps) == 0:\n",
    "            done = True\n",
    "        \n",
    "    if i % 25 == 0 or i == n_games-1:\n",
    "        print(f'At game {i}, epsilon={agent.epsilon}')\n",
    "        agent.save_checkpoints(num=i)"
   ]
  },
  {
   "cell_type": "code",
   "execution_count": 4,
   "id": "11680d08",
   "metadata": {
    "ExecuteTime": {
     "end_time": "2021-10-23T14:38:22.247660Z",
     "start_time": "2021-10-23T14:38:22.099445Z"
    }
   },
   "outputs": [
    {
     "name": "stdout",
     "output_type": "stream",
     "text": [
      "2104\n",
      "(array([ 246,  247,  425,  426,  514,  515,  540,  606,  607,  672,  673,\n",
      "        857,  858, 1082, 1083, 1326, 1650, 1651, 1822, 1823, 1857, 1858]),)\n"
     ]
    },
    {
     "data": {
      "image/png": "[encoded data removed]",
      "text/plain": [
       "<Figure size 432x288 with 1 Axes>"
      ]
     },
     "metadata": {
      "needs_background": "light"
     },
     "output_type": "display_data"
    }
   ],
   "source": [
    "import matplotlib.pyplot as plt\n",
    "import numpy as np\n",
    "\n",
    "cumulative_rewards = np.load('./results/dungeon/dqn_cum_rewards.npy')\n",
    "print(len(cumulative_rewards))\n",
    "plt.plot(np.arange(len(cumulative_rewards)), cumulative_rewards, label='rewards')\n",
    "plt.title('Cumulative Group Rewards - Dungeon Escape')\n",
    "plt.ylabel('rewards')\n",
    "plt.xlabel('agent terminations')\n",
    "plt.legend()\n",
    "plt.savefig('./plots/dungeon/dqn_cum_rewards.png')\n",
    "print(np.nonzero(cumulative_rewards))\n"
   ]
  },
  {
   "cell_type": "code",
   "execution_count": 89,
   "id": "3716682c",
   "metadata": {
    "ExecuteTime": {
     "end_time": "2021-10-22T16:55:20.467599Z",
     "start_time": "2021-10-22T16:55:20.349548Z"
    },
    "scrolled": false
   },
   "outputs": [
    {
     "name": "stdout",
     "output_type": "stream",
     "text": [
      "2104\n",
      "(array([ 246,  247,  425,  426,  514,  515,  540,  606,  607,  672,  673,\n",
      "        857,  858, 1082, 1083, 1326, 1650, 1651, 1822, 1823, 1857, 1858]),)\n"
     ]
    },
    {
     "data": {
      "image/png": "[encoded data removed]",
      "text/plain": [
       "<Figure size 432x288 with 1 Axes>"
      ]
     },
     "metadata": {
      "needs_background": "light"
     },
     "output_type": "display_data"
    }
   ],
   "source": [
    "import matplotlib.pyplot as plt\n",
    "\n",
    "print(len(cumulative_rewards))\n",
    "plt.plot(np.arange(len(cumulative_rewards)), cumulative_rewards)\n",
    "plt.title('Cumulative Group Rewards')\n",
    "plt.ylabel('rewards')\n",
    "plt.xlabel('agent terminations')\n",
    "plt.savefig('./plots/dungeon/dqn_cum_rewards.png')\n",
    "print(np.nonzero(cumulative_rewards))\n",
    "\n",
    "np.save('./results/dungeon/dqn_cum_rewards.npy', cumulative_rewards)"
   ]
  },
  {
   "cell_type": "code",
   "execution_count": 85,
   "id": "e11de03a",
   "metadata": {
    "ExecuteTime": {
     "end_time": "2021-10-22T16:50:57.368450Z",
     "start_time": "2021-10-22T16:50:57.345294Z"
    }
   },
   "outputs": [
    {
     "name": "stdout",
     "output_type": "stream",
     "text": [
      "(array([], dtype=int64),)\n",
      "50000\n"
     ]
    }
   ],
   "source": [
    "rewards = [memory.reward for memory in agent.memory]\n",
    "print(np.nonzero(rewards)) # all positive rewards got pushed out of this buffer\n",
    "print(len(agent.memory))"
   ]
  },
  {
   "cell_type": "markdown",
   "id": "25fff4c2",
   "metadata": {},
   "source": [
    "# Wrapping Up, Closing the Environment\n",
    "Without closing the environment, we cannot make the environment again. Unity will complain about the communicator already being in use."
   ]
  },
  {
   "cell_type": "code",
   "execution_count": 86,
   "id": "486ab065",
   "metadata": {
    "ExecuteTime": {
     "end_time": "2021-10-22T16:52:56.907855Z",
     "start_time": "2021-10-22T16:52:56.688516Z"
    },
    "scrolled": false
   },
   "outputs": [
    {
     "name": "stdout",
     "output_type": "stream",
     "text": [
      "Setting up 10 worker threads for Enlighten.\n",
      "  Thread -> id: 7f89e25b9700 -> priority: 1 \n",
      "  Thread -> id: 7f89e1db8700 -> priority: 1 \n",
      "  Thread -> id: 7f89e15b7700 -> priority: 1 \n",
      "  Thread -> id: 7f89e0db6700 -> priority: 1 \n",
      "  Thread -> id: 7f8957fff700 -> priority: 1 \n",
      "  Thread -> id: 7f89577fe700 -> priority: 1 \n",
      "  Thread -> id: 7f8956ffd700 -> priority: 1 \n",
      "  Thread -> id: 7f89567fc700 -> priority: 1 \n",
      "  Thread -> id: 7f8955ffb700 -> priority: 1 \n",
      "  Thread -> id: 7f89557fa700 -> priority: 1 \n"
     ]
    }
   ],
   "source": [
    "env.close()"
   ]
  },
  {
   "cell_type": "markdown",
   "id": "88bd2120",
   "metadata": {},
   "source": [
    "# QMIX"
   ]
  },
  {
   "cell_type": "code",
   "execution_count": null,
   "id": "72174c7d",
   "metadata": {},
   "outputs": [],
   "source": []
  }
 ],
 "metadata": {
  "kernelspec": {
   "display_name": "Python [conda env:mlagents]",
   "language": "python",
   "name": "conda-env-mlagents-py"
  },
  "language_info": {
   "codemirror_mode": {
    "name": "ipython",
    "version": 3
   },
   "file_extension": ".py",
   "mimetype": "text/x-python",
   "name": "python",
   "nbconvert_exporter": "python",
   "pygments_lexer": "ipython3",
   "version": "3.8.12"
  },
  "toc": {
   "base_numbering": 1,
   "nav_menu": {},
   "number_sections": true,
   "sideBar": true,
   "skip_h1_title": false,
   "title_cell": "Table of Contents",
   "title_sidebar": "Contents",
   "toc_cell": false,
   "toc_position": {
    "height": "632px",
    "left": "532px",
    "top": "110px",
    "width": "221.796875px"
   },
   "toc_section_display": true,
   "toc_window_display": true
  }
 },
 "nbformat": 4,
 "nbformat_minor": 5
}
